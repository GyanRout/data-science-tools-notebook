{
 "cells": [
  {
   "cell_type": "markdown",
   "id": "f3655cdc",
   "metadata": {},
   "source": [
    "# Data Science Tools and Ecosystem"
   ]
  },
  {
   "cell_type": "markdown",
   "id": "ac7dbdef",
   "metadata": {},
   "source": [
    "In this notebook, we will summarize the tools and libraries used in Data Science."
   ]
  },
  {
   "cell_type": "markdown",
   "id": "019755ea",
   "metadata": {},
   "source": [
    "Some of the popular languages that Data Scientists use are:\n",
    "\n",
    "1. Python  \n",
    "2. R  \n",
    "3. SQL"
   ]
  },
  {
   "cell_type": "markdown",
   "id": "3c0d4bb5",
   "metadata": {},
   "source": [
    "Some of the commonly used libraries used by Data Scientists include:\n",
    "\n",
    "1. Pandas  \n",
    "2. NumPy  \n",
    "3. Matplotlib"
   ]
  },
  {
   "cell_type": "markdown",
   "id": "68cc8143",
   "metadata": {},
   "source": [
    "| Data Science Tool     | Description                    |\n",
    "|-----------------------|--------------------------------|\n",
    "| Jupyter Notebook      | Interactive computing          |\n",
    "| RStudio               | R programming IDE              |\n",
    "| Apache Spark          | Big data processing framework  |"
   ]
  },
  {
   "cell_type": "markdown",
   "id": "fdc2e41d",
   "metadata": {},
   "source": [
    "Below are a few examples of evaluating arithmetic expressions in Python."
   ]
  },
  {
   "cell_type": "code",
   "execution_count": null,
   "id": "ad53be80",
   "metadata": {},
   "outputs": [],
   "source": [
    "# This code multiplies 3 by 4 and then adds 5\n",
    "(3 * 4) + 5"
   ]
  },
  {
   "cell_type": "code",
   "execution_count": null,
   "id": "d8d819ab",
   "metadata": {},
   "outputs": [],
   "source": [
    "# This code converts 200 minutes into hours\n",
    "minutes = 200\n",
    "hours = minutes / 60\n",
    "hours"
   ]
  },
  {
   "cell_type": "markdown",
   "id": "99ea74cd",
   "metadata": {},
   "source": [
    "**Objectives:**\n",
    "\n",
    "- List popular languages for Data Science  \n",
    "- List commonly used libraries in Data Science  \n",
    "- Show examples of arithmetic expressions in Python  \n",
    "- Demonstrate how to share notebooks using GitHub  \n",
    "- Create tables and lists using Markdown"
   ]
  },
  {
   "cell_type": "markdown",
   "id": "32efab3d",
   "metadata": {},
   "source": [
    "**Author:** Your Full Name"
   ]
  }
 ],
 "metadata": {},
 "nbformat": 4,
 "nbformat_minor": 5
}
